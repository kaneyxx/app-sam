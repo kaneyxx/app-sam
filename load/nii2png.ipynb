{
 "cells": [
  {
   "cell_type": "code",
   "execution_count": 1,
   "id": "ecffee7b",
   "metadata": {},
   "outputs": [],
   "source": [
    "import nibabel as nib\n",
    "import numpy as np\n",
    "import matplotlib.pyplot as plt\n",
    "import os\n",
    "from glob import glob"
   ]
  },
  {
   "cell_type": "code",
   "execution_count": 2,
   "id": "418e0a1c",
   "metadata": {},
   "outputs": [],
   "source": [
    "def convert_nii_to_png(filename, folder, train=True):\n",
    "    # Load the NIfTI file\n",
    "    img = nib.load(filename)\n",
    "    data = img.get_fdata()\n",
    "    \n",
    "    # Get the base filename without extension\n",
    "    base_filename = os.path.splitext(os.path.splitext(filename)[0])[0]\n",
    "    base_name = base_filename.split(\"/\")[1]\n",
    "    if not train:\n",
    "        base_name = base_name.split(\"_\")[0]\n",
    "    # Assuming the data is in the shape of (512, 512, n)\n",
    "    # Iterate through each slice and save as PNG\n",
    "    num_slices = data.shape[2]\n",
    "    for i in range(num_slices):\n",
    "        sliced = data[:, :, i]\n",
    "        \n",
    "        if sliced.sum()==0:\n",
    "            normalized_sliced = sliced\n",
    "        \n",
    "        else:\n",
    "            # Normalize the slice to the range of [0,1] for image representation\n",
    "            normalized_sliced = (sliced - np.min(sliced)) / (np.max(sliced) - np.min(sliced))\n",
    "\n",
    "        # Create an empty 3-channel image\n",
    "        image_3c = np.stack((normalized_sliced,)*3, axis=-1)\n",
    "        \n",
    "        # Save the slice as PNG\n",
    "        if train:\n",
    "            plt.imsave(f'./{folder}/{base_name}_{i}.png', image_3c)\n",
    "        else:\n",
    "            plt.imsave(f'./{folder}/{base_name}_{i}_label.png', image_3c)\n",
    "\n",
    "# Example usage:\n",
    "# convert_nii_to_png('example_filename.nii.gz')\n"
   ]
  },
  {
   "cell_type": "code",
   "execution_count": 12,
   "id": "3b761ee2",
   "metadata": {},
   "outputs": [],
   "source": [
    "for filepath in glob(\"Image_Train_Data/*.nii.gz\"):\n",
    "    convert_nii_to_png(filepath, \"Image_Train_PNG\")"
   ]
  },
  {
   "cell_type": "code",
   "execution_count": 4,
   "id": "061375cd",
   "metadata": {},
   "outputs": [],
   "source": [
    "for filepath in glob(\"Image_Valid_Data/*.nii.gz\"):\n",
    "    convert_nii_to_png(filepath, \"Image_Valid_PNG\")"
   ]
  },
  {
   "cell_type": "code",
   "execution_count": 5,
   "id": "85ab4484",
   "metadata": {},
   "outputs": [],
   "source": [
    "for filepath in glob(\"Mask_Train_Data/*.nii.gz\"):\n",
    "    convert_nii_to_png(filepath, \"Mask_Train_PNG\", train=False)"
   ]
  },
  {
   "cell_type": "code",
   "execution_count": 6,
   "id": "994ef771",
   "metadata": {},
   "outputs": [],
   "source": [
    "for filepath in glob(\"Mask_Valid_Data/*.nii.gz\"):\n",
    "    convert_nii_to_png(filepath, \"Mask_Valid_PNG\", train=False)"
   ]
  },
  {
   "cell_type": "code",
   "execution_count": 13,
   "id": "24ebb2e4",
   "metadata": {},
   "outputs": [
    {
     "data": {
      "text/plain": [
       "76260"
      ]
     },
     "execution_count": 13,
     "metadata": {},
     "output_type": "execute_result"
    }
   ],
   "source": [
    "len(glob(\"Image_Train_PNG/*.png\"))"
   ]
  },
  {
   "cell_type": "code",
   "execution_count": 10,
   "id": "cc934682",
   "metadata": {},
   "outputs": [
    {
     "data": {
      "text/plain": [
       "18943"
      ]
     },
     "execution_count": 10,
     "metadata": {},
     "output_type": "execute_result"
    }
   ],
   "source": [
    "len(glob(\"Image_Valid_PNG/*.png\"))"
   ]
  },
  {
   "cell_type": "code",
   "execution_count": 7,
   "id": "84c8dcc0",
   "metadata": {},
   "outputs": [
    {
     "data": {
      "text/plain": [
       "76260"
      ]
     },
     "execution_count": 7,
     "metadata": {},
     "output_type": "execute_result"
    }
   ],
   "source": [
    "len(glob(\"Mask_Train_PNG/*.png\"))"
   ]
  },
  {
   "cell_type": "code",
   "execution_count": 8,
   "id": "79dea331",
   "metadata": {},
   "outputs": [
    {
     "data": {
      "text/plain": [
       "18943"
      ]
     },
     "execution_count": 8,
     "metadata": {},
     "output_type": "execute_result"
    }
   ],
   "source": [
    "len(glob(\"Mask_Valid_PNG/*.png\"))"
   ]
  },
  {
   "cell_type": "code",
   "execution_count": null,
   "id": "7d686b98",
   "metadata": {},
   "outputs": [],
   "source": []
  }
 ],
 "metadata": {
  "kernelspec": {
   "display_name": "Python 3 (ipykernel)",
   "language": "python",
   "name": "python3"
  },
  "language_info": {
   "codemirror_mode": {
    "name": "ipython",
    "version": 3
   },
   "file_extension": ".py",
   "mimetype": "text/x-python",
   "name": "python",
   "nbconvert_exporter": "python",
   "pygments_lexer": "ipython3",
   "version": "3.8.13"
  }
 },
 "nbformat": 4,
 "nbformat_minor": 5
}
