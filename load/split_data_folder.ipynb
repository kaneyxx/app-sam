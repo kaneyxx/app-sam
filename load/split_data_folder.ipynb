{
 "cells": [
  {
   "cell_type": "code",
   "execution_count": 1,
   "id": "3a763ab6",
   "metadata": {},
   "outputs": [],
   "source": [
    "import os\n",
    "import shutil\n",
    "import pandas as pd"
   ]
  },
  {
   "cell_type": "code",
   "execution_count": 2,
   "id": "8f505615",
   "metadata": {},
   "outputs": [],
   "source": [
    "# Define the base paths for the image and mask directories (to be replaced with actual paths when provided)\n",
    "image_dir = 'dataset/1_Train,Valid_Image'  # Placeholder path\n",
    "mask_dir = 'dataset/2_Train,Valid_Mask'  # Placeholder path\n",
    "\n",
    "# Define the destination directories\n",
    "image_train_dir = 'dataset/Image_Train_Data'  # Placeholder path\n",
    "image_valid_dir = 'dataset/Image_Valid_Data'  # Placeholder path\n",
    "mask_train_dir = 'dataset/Mask_Train_Data'  # Placeholder path\n",
    "mask_valid_dir = 'dataset/Mask_Valid_Data'  # Placeholder path\n",
    "\n",
    "# Create the destination directories if they don't already exist\n",
    "os.makedirs(image_train_dir, exist_ok=True)\n",
    "os.makedirs(image_valid_dir, exist_ok=True)\n",
    "os.makedirs(mask_train_dir, exist_ok=True)\n",
    "os.makedirs(mask_valid_dir, exist_ok=True)"
   ]
  },
  {
   "cell_type": "code",
   "execution_count": 3,
   "id": "e7e1daed",
   "metadata": {},
   "outputs": [],
   "source": [
    "# Read the TrainValid_split.csv file into a DataFrame\n",
    "train_valid_split_df = pd.read_csv('dataset/TrainValid_split.csv')\n",
    "\n",
    "# Create a set of scan_ids for the 'Train' group\n",
    "train_ids = set(train_valid_split_df[train_valid_split_df['group'] == 'Train']['id'])\n",
    "\n",
    "valid_ids = set(train_valid_split_df[train_valid_split_df['group'] == 'Valid']['id'])\n",
    "\n",
    "scan_ids = train_ids.union(valid_ids)"
   ]
  },
  {
   "cell_type": "code",
   "execution_count": 4,
   "id": "606bee7e",
   "metadata": {},
   "outputs": [],
   "source": [
    "# Function to move files based on train or valid group\n",
    "def move_files(src_dir, train_dst_dir, valid_dst_dir, file_ids):\n",
    "    for file_id in file_ids:\n",
    "        src_file_path = os.path.join(src_dir, file_id + '.nii.gz')\n",
    "        check_id = file_id.split(\"_\")[0]\n",
    "        if os.path.isfile(src_file_path):\n",
    "            # Determine if the file is for 'Train' or 'Valid'\n",
    "            if check_id in train_ids:\n",
    "                dst_dir = train_dst_dir\n",
    "            elif check_id in valid_ids:\n",
    "                dst_dir = valid_dst_dir\n",
    "            else:\n",
    "                print(file_id, \"!!!\")\n",
    "            # Move the file to the appropriate directory\n",
    "            shutil.move(src_file_path, dst_dir)\n",
    "\n",
    "# Function to get all unique scan ids from the image and mask directories\n",
    "def get_unique_scan_ids(image_dir, mask_dir):\n",
    "    image_files = {f.split('.')[0] for f in os.listdir(image_dir) if f.endswith('.nii.gz')}\n",
    "    mask_files = {f.split('_label')[0] for f in os.listdir(mask_dir) if f.endswith('.nii.gz')}\n",
    "    return image_files.union(mask_files)"
   ]
  },
  {
   "cell_type": "code",
   "execution_count": null,
   "id": "a7037005",
   "metadata": {},
   "outputs": [],
   "source": []
  },
  {
   "cell_type": "code",
   "execution_count": null,
   "id": "081e6ecf",
   "metadata": {},
   "outputs": [],
   "source": [
    "# Get all unique scan ids\n",
    "scan_ids = get_unique_scan_ids(image_dir, mask_dir)\n",
    "\n",
    "# Move the image files to the appropriate 'Train' or 'Valid' directories\n",
    "move_files(image_dir, image_train_dir, image_valid_dir, scan_ids)\n",
    "\n",
    "# Move the mask files to the appropriate 'Train' or 'Valid' directories, appending '_label' to the id for mask files\n",
    "move_files(mask_dir, mask_train_dir, mask_valid_dir, {sid + '_label' for sid in scan_ids})\n",
    "\n",
    "# The code above assumes that the file structure is known and the paths are provided.\n",
    "# The actual paths need to be replaced in the placeholders. Also, this code will not run here because it requires access to the filesystem.\n"
   ]
  },
  {
   "cell_type": "code",
   "execution_count": 6,
   "id": "1284213c",
   "metadata": {},
   "outputs": [],
   "source": [
    "from glob import glob"
   ]
  },
  {
   "cell_type": "code",
   "execution_count": 10,
   "id": "ed8a572e",
   "metadata": {},
   "outputs": [
    {
     "data": {
      "text/plain": [
       "800"
      ]
     },
     "execution_count": 10,
     "metadata": {},
     "output_type": "execute_result"
    }
   ],
   "source": [
    "len(glob(\"./dataset/Mask_Train_Data/*.nii.gz\"))"
   ]
  },
  {
   "cell_type": "code",
   "execution_count": null,
   "id": "aeb678cd",
   "metadata": {},
   "outputs": [],
   "source": []
  }
 ],
 "metadata": {
  "kernelspec": {
   "display_name": "Python 3 (ipykernel)",
   "language": "python",
   "name": "python3"
  },
  "language_info": {
   "codemirror_mode": {
    "name": "ipython",
    "version": 3
   },
   "file_extension": ".py",
   "mimetype": "text/x-python",
   "name": "python",
   "nbconvert_exporter": "python",
   "pygments_lexer": "ipython3",
   "version": "3.8.13"
  }
 },
 "nbformat": 4,
 "nbformat_minor": 5
}
